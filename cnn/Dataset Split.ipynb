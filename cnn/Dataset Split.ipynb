{
 "cells": [
  {
   "cell_type": "code",
   "execution_count": 38,
   "id": "2089a7c4-56f1-4370-9cd7-5a8ea3356112",
   "metadata": {},
   "outputs": [],
   "source": [
    "import random\n",
    "import shutil\n",
    "import os"
   ]
  },
  {
   "cell_type": "code",
   "execution_count": 41,
   "id": "35c45934-c0b6-4d55-8189-ce441f0b4764",
   "metadata": {},
   "outputs": [],
   "source": [
    "source_dir = 'Dataset/POCO X5 PRO - Classified/original-dataset'\n",
    "\n",
    "train_percent = 0.7\n",
    "test_percent = 0.2\n",
    "validation_percent = 0.1"
   ]
  },
  {
   "cell_type": "code",
   "execution_count": 42,
   "id": "2a9e4a6e-e55f-4304-959d-620c6a01b0d7",
   "metadata": {},
   "outputs": [
    {
     "name": "stdout",
     "output_type": "stream",
     "text": [
      "busuk:90\n",
      "normal-busuk:98\n",
      "sangat-segar:111\n",
      "segar-normal:110\n",
      "{'busuk': {'train': 63, 'test': 18, 'validation': 9}, 'normal-busuk': {'train': 69, 'test': 20, 'validation': 10}, 'sangat-segar': {'train': 78, 'test': 22, 'validation': 11}, 'segar-normal': {'train': 77, 'test': 22, 'validation': 11}}\n"
     ]
    }
   ],
   "source": [
    "dataset = {}\n",
    "for label in os.listdir(source_dir):\n",
    "    file_count = len(os.listdir(f\"{source_dir}/{label}\"))\n",
    "    dataset[label] = {\n",
    "        \"train\": round(file_count * train_percent),\n",
    "        \"test\": round(file_count * test_percent),\n",
    "        \"validation\": round(file_count * validation_percent)\n",
    "    }\n",
    "    print(f\"{label}:{file_count}\")\n",
    "\n",
    "print(dataset)"
   ]
  },
  {
   "cell_type": "code",
   "execution_count": 43,
   "id": "9abd346d-3f8e-4325-b580-983c59f565f1",
   "metadata": {},
   "outputs": [],
   "source": [
    "def dataset_split(label_dir, new_dir, num_to_select):\n",
    "    # Dapatkan daftar semua file di direktori label\n",
    "    files = [f for f in os.listdir(label_dir) if os.path.isfile(os.path.join(label_dir, f))]\n",
    "\n",
    "    # Acak urutan file untuk pemilihan acak\n",
    "    random.shuffle(files)\n",
    "\n",
    "    # Pilih file sesuai jumlah yang diinginkan\n",
    "    selected_files = files[:num_to_select]\n",
    "\n",
    "    # Salin file yang dipilih ke direktori baru\n",
    "    for file_name in selected_files:\n",
    "        src_file_path = os.path.join(label_dir, file_name)\n",
    "        dest_file_path = os.path.join(new_dir, file_name)\n",
    "        shutil.copy(src_file_path, dest_file_path)\n",
    "\n",
    "    print(f\"{len(selected_files)} file telah dipilih dan disalin ke {new_dir}.\")"
   ]
  },
  {
   "cell_type": "code",
   "execution_count": 44,
   "id": "0057671c-8a0a-4b0b-9d4c-5702a1a1b23e",
   "metadata": {},
   "outputs": [
    {
     "name": "stdout",
     "output_type": "stream",
     "text": [
      "63 file telah dipilih dan disalin ke Dataset/POCO X5 PRO - Classified/original-dataset/dataset/train/busuk/.\n",
      "18 file telah dipilih dan disalin ke Dataset/POCO X5 PRO - Classified/original-dataset/dataset/test/busuk/.\n",
      "9 file telah dipilih dan disalin ke Dataset/POCO X5 PRO - Classified/original-dataset/dataset/validation/busuk/.\n",
      "69 file telah dipilih dan disalin ke Dataset/POCO X5 PRO - Classified/original-dataset/dataset/train/normal-busuk/.\n",
      "20 file telah dipilih dan disalin ke Dataset/POCO X5 PRO - Classified/original-dataset/dataset/test/normal-busuk/.\n",
      "10 file telah dipilih dan disalin ke Dataset/POCO X5 PRO - Classified/original-dataset/dataset/validation/normal-busuk/.\n",
      "78 file telah dipilih dan disalin ke Dataset/POCO X5 PRO - Classified/original-dataset/dataset/train/sangat-segar/.\n",
      "22 file telah dipilih dan disalin ke Dataset/POCO X5 PRO - Classified/original-dataset/dataset/test/sangat-segar/.\n",
      "11 file telah dipilih dan disalin ke Dataset/POCO X5 PRO - Classified/original-dataset/dataset/validation/sangat-segar/.\n",
      "77 file telah dipilih dan disalin ke Dataset/POCO X5 PRO - Classified/original-dataset/dataset/train/segar-normal/.\n",
      "22 file telah dipilih dan disalin ke Dataset/POCO X5 PRO - Classified/original-dataset/dataset/test/segar-normal/.\n",
      "11 file telah dipilih dan disalin ke Dataset/POCO X5 PRO - Classified/original-dataset/dataset/validation/segar-normal/.\n"
     ]
    }
   ],
   "source": [
    "for label, labelValue in dataset.items():\n",
    "    for section,num_to_select in labelValue.items():\n",
    "        new_dir = f\"{source_dir}/dataset/{section}/{label}/\"\n",
    "        os.makedirs(new_dir, exist_ok=True)\n",
    "        \n",
    "        label_dir = f\"{source_dir}/{label}/\"\n",
    "        dataset_split(label_dir, new_dir, num_to_select)"
   ]
  }
 ],
 "metadata": {
  "kernelspec": {
   "display_name": "Python 3 (ipykernel)",
   "language": "python",
   "name": "python3"
  },
  "language_info": {
   "codemirror_mode": {
    "name": "ipython",
    "version": 3
   },
   "file_extension": ".py",
   "mimetype": "text/x-python",
   "name": "python",
   "nbconvert_exporter": "python",
   "pygments_lexer": "ipython3",
   "version": "3.9.10"
  }
 },
 "nbformat": 4,
 "nbformat_minor": 5
}
