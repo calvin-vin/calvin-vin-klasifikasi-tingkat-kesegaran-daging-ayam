{
 "cells": [
  {
   "cell_type": "code",
   "execution_count": 1,
   "id": "ec207fbb-ada9-4edf-bb61-c080c9f3af6e",
   "metadata": {},
   "outputs": [],
   "source": [
    "import os\n",
    "import torch\n",
    "from PIL import Image\n",
    "from torchvision import datasets, transforms\n",
    "from torchvision.utils import save_image\n",
    "from torch.utils.data import DataLoader"
   ]
  },
  {
   "cell_type": "code",
   "execution_count": 3,
   "id": "28a3f8a8-5200-4604-9b6c-3451d460754b",
   "metadata": {},
   "outputs": [],
   "source": [
    "batch_size = 1\n",
    "my_transform = transforms.Compose([\n",
    "    # transforms.RandomRotation(30),\n",
    "    # transforms.RandomHorizontalFlip(),\n",
    "    # transforms.RandomVerticalFlip(),\n",
    "    transforms.Resize(226),\n",
    "    transforms.CenterCrop(224),\n",
    "    transforms.ToTensor(),\n",
    "])"
   ]
  },
  {
   "cell_type": "code",
   "execution_count": 6,
   "id": "8d78e42f-c470-407d-84f8-26d61eea5e23",
   "metadata": {},
   "outputs": [
    {
     "name": "stdout",
     "output_type": "stream",
     "text": [
      "Augmented image 0 saved at validation/busuk\\busuk_0.jpg\n",
      "Augmented image 1 saved at validation/busuk\\busuk_1.jpg\n",
      "Augmented image 2 saved at validation/busuk\\busuk_2.jpg\n",
      "Augmented image 3 saved at validation/busuk\\busuk_3.jpg\n",
      "Augmented image 4 saved at validation/busuk\\busuk_4.jpg\n",
      "Augmented image 5 saved at validation/busuk\\busuk_5.jpg\n",
      "Augmented image 6 saved at validation/busuk\\busuk_6.jpg\n",
      "Augmented image 7 saved at validation/busuk\\busuk_7.jpg\n",
      "Augmented image 8 saved at validation/busuk\\busuk_8.jpg\n",
      "Augmented image 0 saved at validation/normal-busuk\\normal-busuk_0.jpg\n",
      "Augmented image 1 saved at validation/normal-busuk\\normal-busuk_1.jpg\n",
      "Augmented image 2 saved at validation/normal-busuk\\normal-busuk_2.jpg\n",
      "Augmented image 3 saved at validation/normal-busuk\\normal-busuk_3.jpg\n",
      "Augmented image 4 saved at validation/normal-busuk\\normal-busuk_4.jpg\n",
      "Augmented image 5 saved at validation/normal-busuk\\normal-busuk_5.jpg\n",
      "Augmented image 6 saved at validation/normal-busuk\\normal-busuk_6.jpg\n",
      "Augmented image 7 saved at validation/normal-busuk\\normal-busuk_7.jpg\n",
      "Augmented image 8 saved at validation/normal-busuk\\normal-busuk_8.jpg\n",
      "Augmented image 9 saved at validation/normal-busuk\\normal-busuk_9.jpg\n",
      "Augmented image 0 saved at validation/sangat-segar\\sangat-segar_0.jpg\n",
      "Augmented image 1 saved at validation/sangat-segar\\sangat-segar_1.jpg\n",
      "Augmented image 2 saved at validation/sangat-segar\\sangat-segar_2.jpg\n",
      "Augmented image 3 saved at validation/sangat-segar\\sangat-segar_3.jpg\n",
      "Augmented image 4 saved at validation/sangat-segar\\sangat-segar_4.jpg\n",
      "Augmented image 5 saved at validation/sangat-segar\\sangat-segar_5.jpg\n",
      "Augmented image 6 saved at validation/sangat-segar\\sangat-segar_6.jpg\n",
      "Augmented image 7 saved at validation/sangat-segar\\sangat-segar_7.jpg\n",
      "Augmented image 8 saved at validation/sangat-segar\\sangat-segar_8.jpg\n",
      "Augmented image 9 saved at validation/sangat-segar\\sangat-segar_9.jpg\n",
      "Augmented image 10 saved at validation/sangat-segar\\sangat-segar_10.jpg\n",
      "Augmented image 0 saved at validation/segar-normal\\segar-normal_0.jpg\n",
      "Augmented image 1 saved at validation/segar-normal\\segar-normal_1.jpg\n",
      "Augmented image 2 saved at validation/segar-normal\\segar-normal_2.jpg\n",
      "Augmented image 3 saved at validation/segar-normal\\segar-normal_3.jpg\n",
      "Augmented image 4 saved at validation/segar-normal\\segar-normal_4.jpg\n",
      "Augmented image 5 saved at validation/segar-normal\\segar-normal_5.jpg\n",
      "Augmented image 6 saved at validation/segar-normal\\segar-normal_6.jpg\n",
      "Augmented image 7 saved at validation/segar-normal\\segar-normal_7.jpg\n",
      "Augmented image 8 saved at validation/segar-normal\\segar-normal_8.jpg\n",
      "Augmented image 9 saved at validation/segar-normal\\segar-normal_9.jpg\n",
      "Augmented image 10 saved at validation/segar-normal\\segar-normal_10.jpg\n"
     ]
    }
   ],
   "source": [
    "source_dir = \"Dataset/POCO X5 PRO - Classified/original-dataset/dataset/validation\"\n",
    "dest_dir = \"validation\"\n",
    "\n",
    "os.makedirs(dest_dir, exist_ok=True)\n",
    "\n",
    "for label in os.listdir(source_dir):\n",
    "    dest_source_dir = f'{dest_dir}/{label}'\n",
    "    os.makedirs(dest_source_dir, exist_ok=True)\n",
    "    \n",
    "    # Load images\n",
    "    label_source_dir = f\"{source_dir}/{label}\"\n",
    "    images_path = os.listdir(label_source_dir)\n",
    "    \n",
    "    num = 0\n",
    "    for img_path in images_path:\n",
    "        img = Image.open(f'{label_source_dir}/{img_path}')\n",
    "        \n",
    "        # Specify the number of augmented images to generate\n",
    "        num_augmented_images = batch_size\n",
    "        \n",
    "        for i in range(num_augmented_images):\n",
    "            augmented_img = my_transform(img)\n",
    "            save_path = os.path.join(dest_source_dir, f'{label}_{num}.jpg')\n",
    "            transforms.ToPILImage()(augmented_img).save(save_path)\n",
    "            print(f\"Augmented image {num} saved at {save_path}\")\n",
    "            num += 1"
   ]
  }
 ],
 "metadata": {
  "kernelspec": {
   "display_name": "Python 3 (ipykernel)",
   "language": "python",
   "name": "python3"
  },
  "language_info": {
   "codemirror_mode": {
    "name": "ipython",
    "version": 3
   },
   "file_extension": ".py",
   "mimetype": "text/x-python",
   "name": "python",
   "nbconvert_exporter": "python",
   "pygments_lexer": "ipython3",
   "version": "3.9.10"
  }
 },
 "nbformat": 4,
 "nbformat_minor": 5
}
